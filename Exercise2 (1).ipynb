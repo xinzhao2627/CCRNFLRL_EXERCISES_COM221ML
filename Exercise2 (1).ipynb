{
  "nbformat": 4,
  "nbformat_minor": 0,
  "metadata": {
    "colab": {
      "provenance": []
    },
    "kernelspec": {
      "name": "python3",
      "display_name": "Python 3"
    },
    "language_info": {
      "name": "python"
    }
  },
  "cells": [
    {
      "cell_type": "markdown",
      "metadata": {
        "id": "view-in-github"
      },
      "source": [
        "<a href=\"https://colab.research.google.com/github/robitussin/CCRNFLRL_EXERCISES/blob/main/Exercise2.ipynb\" target=\"_parent\"><img src=\"https://colab.research.google.com/assets/colab-badge.svg\" alt=\"Open In Colab\"/></a>"
      ]
    },
    {
      "cell_type": "markdown",
      "source": [
        "# Exercise 2"
      ],
      "metadata": {
        "id": "gh4_1T3XTRg6"
      }
    },
    {
      "cell_type": "code",
      "source": [
        "from math import sqrt, log\n",
        "import pandas as pd"
      ],
      "metadata": {
        "id": "-6zwzOH0TMq0"
      },
      "execution_count": 1,
      "outputs": []
    },
    {
      "cell_type": "markdown",
      "source": [
        "## Step 1: Enter your data\n",
        "\n",
        "Add a new row after each pull: Pull number, Machine played (\"A\", \"B\", \"C\"), and Reward earned."
      ],
      "metadata": {
        "id": "kZCcIK8dTkot"
      }
    },
    {
      "cell_type": "markdown",
      "source": [],
      "metadata": {
        "id": "5sX1FlJp8Roz"
      }
    },
    {
      "cell_type": "markdown",
      "source": [
        "#conclusion\n",
        "- CONCLUSION: According to the presented table, the slot machine C has the highest average reward for pull. However, slot machine A is the most recommended slot machine because of its high UCB score.  Due to unclear results, we can conclude that the created dataset does not have good observation data due to low average per pull and ucb scores not being far from each other"
      ],
      "metadata": {
        "id": "8URtXMxfRL0z"
      }
    },
    {
      "cell_type": "code",
      "source": [
        "# CONCLUSION: According to the\n",
        "# presented table, the slot machine C has\n",
        "# the highest average reward for pull. However, slot machine\n",
        "# A is the most recommended slot machine because of its high UCB score.\n",
        "# Due to unclear results, we can conclude that the created dataset does not have good observation\n",
        "# data due to low average per pull and ucb scores not being far from each other\n",
        "\n",
        "def calculate_ucb_stepwise(df):\n",
        "    ucb_A, ucb_B, ucb_C = [], [], []\n",
        "    recommended_actions = []\n",
        "    history = pd.DataFrame(columns=[\"Machine\", \"Reward\"])\n",
        "\n",
        "    for t in range(len(df)):\n",
        "        current = df.iloc[t]\n",
        "        history = pd.concat([history, current.to_frame().T], ignore_index=True)\n",
        "        total_pulls = len(history)\n",
        "\n",
        "        ucb_scores = {}\n",
        "        for machine in [\"A\", \"B\", \"C\"]:\n",
        "            machine_data = history[history[\"Machine\"] == machine]\n",
        "            n_j = len(machine_data)\n",
        "            if n_j > 0:\n",
        "                avg_reward = machine_data[\"Reward\"].mean()\n",
        "                exploration_bonus = sqrt((2 * log(total_pulls)) / n_j)\n",
        "                ucb = avg_reward + exploration_bonus\n",
        "            else:\n",
        "                ucb = float('inf')  # Forces unexplored machines to be chosen at least once\n",
        "            ucb_scores[machine] = round(ucb, 4)\n",
        "\n",
        "        # Store UCBs\n",
        "        ucb_A.append(ucb_scores[\"A\"] if ucb_scores[\"A\"] != float(\"inf\") else 0)\n",
        "        ucb_B.append(ucb_scores[\"B\"] if ucb_scores[\"B\"] != float(\"inf\") else 0)\n",
        "        ucb_C.append(ucb_scores[\"C\"] if ucb_scores[\"C\"] != float(\"inf\") else 0)\n",
        "\n",
        "        # Recommended action = machine with highest UCB\n",
        "        recommended_machine = max(ucb_scores, key=ucb_scores.get)\n",
        "        recommended_actions.append(recommended_machine)\n",
        "\n",
        "    df[\"ucb-A\"] = ucb_A\n",
        "    df[\"ucb-B\"] = ucb_B\n",
        "    df[\"ucb-C\"] = ucb_C\n",
        "    df[\"pull\"] = range(1, len(df) + 1)\n",
        "    df[\"Recommended\"] = recommended_actions\n",
        "\n",
        "    return df"
      ],
      "metadata": {
        "id": "hCkhBcGtGa0r"
      },
      "execution_count": 161,
      "outputs": []
    },
    {
      "cell_type": "code",
      "source": [
        "# data = pd.DataFrame({\n",
        "#     # \"Pull\": [1, 5, 8, 3, 4, 7, 26, 26,8, 14, 3, 14, 5, 26,26, 26, 14, 14, 14,3, 20],          # Pull number\n",
        "#     \"Machine\": [\"A\", \"B\", \"C\", \"A\", \"C\", \"B\", \"C\", \"C\", \"C\", \"C\", \"A\", \"C\", \"B\", \"C\", \"C\", \"C\", \"C\", \"C\", \"C\",\"A\", \"C\"], # Which machine was played\n",
        "#     \"Reward\": [40, 31, 40, 0, 5, 3, 50, 25, 0,0, 0, 0, 3, 50, 0, 0, 0, 0, 0, 0, 35]         # Reward received from that machine\n",
        "# })\n",
        "data = pd.DataFrame({\n",
        "    # \"Pull\": [1, 5, 8, 3, 4, 7, 26, 26,8, 14, 3, 14, 5, 26,26, 26, 14, 14, 14,3, 20],          # Pull number\n",
        "    \"Machine\": [\"A\", \"B\", \"C\", \"C\",\"A\",\"B\", \"A\", \"C\", \"B\", \"A\", \"C\", \"B\", 'A', 'C', 'B', 'A', \"C\", \"A\", \"B\", \"C\",\"B\", \"A\", \"C\", \"B\", \"A\", \"C\", \"C\", \"B\", \"A\", \"C\", \"A\", \"B\",\"C\", \"B\", \"A\", \"C\", \"A\", \"B\", \"C\", \"A\", \"B\", 'A', \"C\", \"B\", \"A\", 'C', 'B', \"A\", \"C\", \"A\", \"B\"],\n",
        "    \"Reward\": [40, 31, 40, 0, 0, 1, 0, 0, 1, 0, 0, 0, 1, 0, 0, 2, 0, 0, 5, 0,0,0,0,0,0,5,0,0,0, 0,0,1,0, 0, 1, 0, 0, 0, 0, 1, 1, 0, 0, 0, 1, 0, 0, 1, 0, 0, 0]\n",
        "})\n",
        "\n",
        "ucb_table = calculate_ucb_stepwise(data)\n",
        "print(\"📊 UCB Results Table\")\n",
        "print(ucb_table)\n",
        "\n",
        "# best_machine = ucb_table.iloc[0][\"Machine\"]\n",
        "# print(f\"\\n🎯 Recommended next machine to play: {best_machine}\")"
      ],
      "metadata": {
        "id": "_XJg9sNjTP9s",
        "colab": {
          "base_uri": "https://localhost:8080/"
        },
        "outputId": "8915aece-063a-444f-e3a8-fb5b93c152ef"
      },
      "execution_count": 207,
      "outputs": [
        {
          "output_type": "stream",
          "name": "stdout",
          "text": [
            "📊 UCB Results Table\n",
            "   Machine  Reward    ucb-A    ucb-B    ucb-C  pull Recommended\n",
            "0        A      40  40.0000   0.0000   0.0000     1           B\n",
            "1        B      31  41.1774  32.1774   0.0000     2           C\n",
            "2        C      40  41.4823  32.4823  41.4823     3           A\n",
            "3        C       0  41.6651  32.6651  21.1774     4           A\n",
            "4        A       0  21.2686  32.7941  21.2686     5           B\n",
            "5        B       1  21.3386  17.3386  21.3386     6           A\n",
            "6        A       0  14.4723  17.3950  21.3950     7           C\n",
            "7        C       0  14.5107  17.4420  14.5107     8           B\n",
            "8        B       1  14.5436  12.2103  14.5436     9           A\n",
            "9        A       0  11.0730  12.2390  14.5723    10           C\n",
            "10       C       0  11.0950  12.2644  11.0950    11           B\n",
            "11       B       0  11.1147   9.3647  11.1147    12           A\n",
            "12       A       1   9.2129   9.3825  11.1325    13           C\n",
            "13       C       0   9.2274   9.3987   9.0274    14           B\n",
            "14       B       0   9.2408   7.6408   9.0408    15           A\n",
            "15       A       2   8.1280   7.6531   9.0531    16           C\n",
            "16       C       0   8.1385   7.6646   7.6385    17           A\n",
            "17       A       0   7.0516   7.6752   7.6482    18           B\n",
            "18       B       5   7.0601   7.3240   7.6574    19           C\n",
            "19       C       0   7.0680   7.3326   6.6394    20           B\n",
            "20       B       0   7.0755   6.3612   6.6470    21           A\n",
            "21       A       0   6.2541   6.3683   6.6540    22           C\n",
            "22       C       0   6.2604   6.3751   5.8854    23           B\n",
            "23       B       0   6.2664   5.6414   5.8914    24           A\n",
            "24       A       0   5.6235   5.6471   5.8971    25           C\n",
            "25       C       5   5.6287   5.6525   5.8509    26           C\n",
            "26       C       0   5.6336   5.6577   5.3119    27           B\n",
            "27       B       0   5.6383   5.0827   5.3164    28           A\n",
            "28       A       0   5.1206   5.0873   5.3206    29           C\n",
            "29       C       0   5.1248   5.0916   4.8773    30           A\n",
            "30       A       0   4.6993   5.0958   4.8811    31           B\n",
            "31       B       1   4.7029   4.7326   4.8847    32           C\n",
            "32       C       0   4.7064   4.7362   4.5134    33           B\n",
            "33       B       0   4.7098   4.3462   4.5166    34           A\n",
            "34       A       1   4.4364   4.3495   4.5198    35           C\n",
            "35       C       0   4.4395   4.3526   4.2040    36           A\n",
            "36       A       0   4.1300   4.3557   4.2069    37           B\n",
            "37       B       0   4.1327   4.0286   4.2096    38           C\n",
            "38       C       0   4.1354   4.0314   3.9377    39           A\n",
            "39       A       1   3.9402   4.0341   3.9402    40           B\n",
            "40       B       1   3.9426   3.8328   3.9426    41           A\n",
            "41       A       0   3.7059   3.8352   3.9450    42           C\n",
            "42       C       0   3.7082   3.8376   3.7082    43           B\n",
            "43       B       0   3.7103   3.5924   3.7103    44           A\n",
            "44       A       1   3.5648   3.5946   3.7124    45           C\n",
            "45       C       0   3.5668   3.5967   3.5043    46           B\n",
            "46       B       0   3.5687   3.3832   3.5062    47           A\n",
            "47       A       1   3.4396   3.3851   3.5081    48           C\n",
            "48       C       0   3.4414   3.3870   3.3237    49           A\n",
            "49       A       0   3.2704   3.3889   3.3255    50           B\n",
            "50       B       0   3.2721   3.2011   3.3272    51           C\n"
          ]
        }
      ]
    },
    {
      "cell_type": "code",
      "source": [
        "data.to_excel(\"exercise2.xlsx\")"
      ],
      "metadata": {
        "id": "hMivglRZMKOg"
      },
      "execution_count": 208,
      "outputs": []
    },
    {
      "cell_type": "markdown",
      "source": [],
      "metadata": {
        "id": "qY0q03oARKCL"
      }
    }
  ]
}